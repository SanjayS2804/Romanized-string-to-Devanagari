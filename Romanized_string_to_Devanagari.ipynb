{
  "nbformat": 4,
  "nbformat_minor": 0,
  "metadata": {
    "colab": {
      "provenance": [],
      "name": "Romanized-string-to-Devanagari.ipynb",
      "authorship_tag": "ABX9TyPf268OBu14xlJ1nBng05nN",
      "include_colab_link": true
    },
    "kernelspec": {
      "name": "python3",
      "display_name": "Python 3"
    },
    "language_info": {
      "name": "python"
    }
  },
  "cells": [
    {
      "cell_type": "markdown",
      "metadata": {
        "id": "view-in-github",
        "colab_type": "text"
      },
      "source": [
        "<a href=\"https://colab.research.google.com/github/SanjayS2804/Romanized-string-to-Devanagari/blob/main/Romanized_string_to_Devanagari.ipynb\" target=\"_parent\"><img src=\"https://colab.research.google.com/assets/colab-badge.svg\" alt=\"Open In Colab\"/></a>"
      ]
    },
    {
      "cell_type": "code",
      "execution_count": 3,
      "metadata": {
        "id": "tJGEPc6urS3W",
        "colab": {
          "base_uri": "https://localhost:8080/"
        },
        "outputId": "307d8994-d166-4119-9428-b6fd9fc9f085"
      },
      "outputs": [
        {
          "output_type": "stream",
          "name": "stdout",
          "text": [
            "Device: cpu\n"
          ]
        }
      ],
      "source": [
        "from google.colab import files\n",
        "import zipfile, os, random\n",
        "import pandas as pd\n",
        "import torch\n",
        "import torch.nn as nn\n",
        "from torch.utils.data import Dataset, DataLoader\n",
        "from sklearn.model_selection import train_test_split\n",
        "device=torch.device(\"cuda\" if torch.cuda.is_available() else \"cpu\")\n",
        "print(\"Device:\",device)\n"
      ]
    },
    {
      "cell_type": "code",
      "source": [
        "uploaded =files.upload()\n",
        "zip_name =list(uploaded.keys())[0]\n",
        "workdir =\"/content/aksharantar\"\n",
        "os.makedirs(workdir, exist_ok=True)\n",
        "with zipfile.ZipFile(zip_name, 'r') as zip_ref:\n",
        "    zip_ref.extractall(workdir)\n",
        "print(f\"Uploaded and extracted '{zip_name}'\")\n"
      ],
      "metadata": {
        "colab": {
          "base_uri": "https://localhost:8080/",
          "height": 90
        },
        "id": "QHg8QF6zuqi9",
        "outputId": "4a6aeed9-abf6-4e42-a983-346b34c2d773"
      },
      "execution_count": 32,
      "outputs": [
        {
          "output_type": "display_data",
          "data": {
            "text/plain": [
              "<IPython.core.display.HTML object>"
            ],
            "text/html": [
              "\n",
              "     <input type=\"file\" id=\"files-0d09e18a-ff90-426d-be3c-fafbf74eb59d\" name=\"files[]\" multiple disabled\n",
              "        style=\"border:none\" />\n",
              "     <output id=\"result-0d09e18a-ff90-426d-be3c-fafbf74eb59d\">\n",
              "      Upload widget is only available when the cell has been executed in the\n",
              "      current browser session. Please rerun this cell to enable.\n",
              "      </output>\n",
              "      <script>// Copyright 2017 Google LLC\n",
              "//\n",
              "// Licensed under the Apache License, Version 2.0 (the \"License\");\n",
              "// you may not use this file except in compliance with the License.\n",
              "// You may obtain a copy of the License at\n",
              "//\n",
              "//      http://www.apache.org/licenses/LICENSE-2.0\n",
              "//\n",
              "// Unless required by applicable law or agreed to in writing, software\n",
              "// distributed under the License is distributed on an \"AS IS\" BASIS,\n",
              "// WITHOUT WARRANTIES OR CONDITIONS OF ANY KIND, either express or implied.\n",
              "// See the License for the specific language governing permissions and\n",
              "// limitations under the License.\n",
              "\n",
              "/**\n",
              " * @fileoverview Helpers for google.colab Python module.\n",
              " */\n",
              "(function(scope) {\n",
              "function span(text, styleAttributes = {}) {\n",
              "  const element = document.createElement('span');\n",
              "  element.textContent = text;\n",
              "  for (const key of Object.keys(styleAttributes)) {\n",
              "    element.style[key] = styleAttributes[key];\n",
              "  }\n",
              "  return element;\n",
              "}\n",
              "\n",
              "// Max number of bytes which will be uploaded at a time.\n",
              "const MAX_PAYLOAD_SIZE = 100 * 1024;\n",
              "\n",
              "function _uploadFiles(inputId, outputId) {\n",
              "  const steps = uploadFilesStep(inputId, outputId);\n",
              "  const outputElement = document.getElementById(outputId);\n",
              "  // Cache steps on the outputElement to make it available for the next call\n",
              "  // to uploadFilesContinue from Python.\n",
              "  outputElement.steps = steps;\n",
              "\n",
              "  return _uploadFilesContinue(outputId);\n",
              "}\n",
              "\n",
              "// This is roughly an async generator (not supported in the browser yet),\n",
              "// where there are multiple asynchronous steps and the Python side is going\n",
              "// to poll for completion of each step.\n",
              "// This uses a Promise to block the python side on completion of each step,\n",
              "// then passes the result of the previous step as the input to the next step.\n",
              "function _uploadFilesContinue(outputId) {\n",
              "  const outputElement = document.getElementById(outputId);\n",
              "  const steps = outputElement.steps;\n",
              "\n",
              "  const next = steps.next(outputElement.lastPromiseValue);\n",
              "  return Promise.resolve(next.value.promise).then((value) => {\n",
              "    // Cache the last promise value to make it available to the next\n",
              "    // step of the generator.\n",
              "    outputElement.lastPromiseValue = value;\n",
              "    return next.value.response;\n",
              "  });\n",
              "}\n",
              "\n",
              "/**\n",
              " * Generator function which is called between each async step of the upload\n",
              " * process.\n",
              " * @param {string} inputId Element ID of the input file picker element.\n",
              " * @param {string} outputId Element ID of the output display.\n",
              " * @return {!Iterable<!Object>} Iterable of next steps.\n",
              " */\n",
              "function* uploadFilesStep(inputId, outputId) {\n",
              "  const inputElement = document.getElementById(inputId);\n",
              "  inputElement.disabled = false;\n",
              "\n",
              "  const outputElement = document.getElementById(outputId);\n",
              "  outputElement.innerHTML = '';\n",
              "\n",
              "  const pickedPromise = new Promise((resolve) => {\n",
              "    inputElement.addEventListener('change', (e) => {\n",
              "      resolve(e.target.files);\n",
              "    });\n",
              "  });\n",
              "\n",
              "  const cancel = document.createElement('button');\n",
              "  inputElement.parentElement.appendChild(cancel);\n",
              "  cancel.textContent = 'Cancel upload';\n",
              "  const cancelPromise = new Promise((resolve) => {\n",
              "    cancel.onclick = () => {\n",
              "      resolve(null);\n",
              "    };\n",
              "  });\n",
              "\n",
              "  // Wait for the user to pick the files.\n",
              "  const files = yield {\n",
              "    promise: Promise.race([pickedPromise, cancelPromise]),\n",
              "    response: {\n",
              "      action: 'starting',\n",
              "    }\n",
              "  };\n",
              "\n",
              "  cancel.remove();\n",
              "\n",
              "  // Disable the input element since further picks are not allowed.\n",
              "  inputElement.disabled = true;\n",
              "\n",
              "  if (!files) {\n",
              "    return {\n",
              "      response: {\n",
              "        action: 'complete',\n",
              "      }\n",
              "    };\n",
              "  }\n",
              "\n",
              "  for (const file of files) {\n",
              "    const li = document.createElement('li');\n",
              "    li.append(span(file.name, {fontWeight: 'bold'}));\n",
              "    li.append(span(\n",
              "        `(${file.type || 'n/a'}) - ${file.size} bytes, ` +\n",
              "        `last modified: ${\n",
              "            file.lastModifiedDate ? file.lastModifiedDate.toLocaleDateString() :\n",
              "                                    'n/a'} - `));\n",
              "    const percent = span('0% done');\n",
              "    li.appendChild(percent);\n",
              "\n",
              "    outputElement.appendChild(li);\n",
              "\n",
              "    const fileDataPromise = new Promise((resolve) => {\n",
              "      const reader = new FileReader();\n",
              "      reader.onload = (e) => {\n",
              "        resolve(e.target.result);\n",
              "      };\n",
              "      reader.readAsArrayBuffer(file);\n",
              "    });\n",
              "    // Wait for the data to be ready.\n",
              "    let fileData = yield {\n",
              "      promise: fileDataPromise,\n",
              "      response: {\n",
              "        action: 'continue',\n",
              "      }\n",
              "    };\n",
              "\n",
              "    // Use a chunked sending to avoid message size limits. See b/62115660.\n",
              "    let position = 0;\n",
              "    do {\n",
              "      const length = Math.min(fileData.byteLength - position, MAX_PAYLOAD_SIZE);\n",
              "      const chunk = new Uint8Array(fileData, position, length);\n",
              "      position += length;\n",
              "\n",
              "      const base64 = btoa(String.fromCharCode.apply(null, chunk));\n",
              "      yield {\n",
              "        response: {\n",
              "          action: 'append',\n",
              "          file: file.name,\n",
              "          data: base64,\n",
              "        },\n",
              "      };\n",
              "\n",
              "      let percentDone = fileData.byteLength === 0 ?\n",
              "          100 :\n",
              "          Math.round((position / fileData.byteLength) * 100);\n",
              "      percent.textContent = `${percentDone}% done`;\n",
              "\n",
              "    } while (position < fileData.byteLength);\n",
              "  }\n",
              "\n",
              "  // All done.\n",
              "  yield {\n",
              "    response: {\n",
              "      action: 'complete',\n",
              "    }\n",
              "  };\n",
              "}\n",
              "\n",
              "scope.google = scope.google || {};\n",
              "scope.google.colab = scope.google.colab || {};\n",
              "scope.google.colab._files = {\n",
              "  _uploadFiles,\n",
              "  _uploadFilesContinue,\n",
              "};\n",
              "})(self);\n",
              "</script> "
            ]
          },
          "metadata": {}
        },
        {
          "output_type": "stream",
          "name": "stdout",
          "text": [
            "Saving aksharantar_sampled.zip to aksharantar_sampled (1).zip\n",
            "Uploaded and extracted 'aksharantar_sampled (1).zip'\n"
          ]
        }
      ]
    },
    {
      "cell_type": "code",
      "source": [
        "\n",
        "workdir = \"/content/aksharantar/aksharantar_sampled\"\n",
        "hindi_path = os.path.join(workdir, \"hin\", \"hin_train.csv\")\n",
        "d=pd.read_csv(hindi_path).dropna()\n",
        "d.columns=['s','t']\n",
        "d['s']=d['s'].astype(str).str.lower()\n",
        "d['t']=d['t'].astype(str)\n",
        "print(\"Loaded Hindi dataset successfully from:\", hindi_path)\n",
        "print(\"Sample rows:\")\n",
        "print(d.head())\n",
        "pairs = list(zip(d['s'],d['t']))\n",
        "print(\"Total pairs:\",len(pairs))"
      ],
      "metadata": {
        "id": "Cuy5SshCUhZq",
        "colab": {
          "base_uri": "https://localhost:8080/"
        },
        "outputId": "aceead9a-f375-4f47-a913-3804ad83ff13"
      },
      "execution_count": 100,
      "outputs": [
        {
          "output_type": "stream",
          "name": "stdout",
          "text": [
            "Loaded Hindi dataset successfully from: /content/aksharantar/aksharantar_sampled/hin/hin_train.csv\n",
            "Sample rows:\n",
            "             s          t\n",
            "0      bindhya   बिन्द्या\n",
            "1    kirankant   किरणकांत\n",
            "2  yagyopaveet  यज्ञोपवीत\n",
            "3      ratania    रटानिया\n",
            "4   vaganyache  वागण्याचे\n",
            "Total pairs: 51199\n"
          ]
        }
      ]
    },
    {
      "cell_type": "code",
      "source": [
        "def vocab(words):\n",
        "    v=sorted(set(\"\".join(words)))\n",
        "    ctoi={}\n",
        "    for i,c in enumerate(v):\n",
        "        ctoi[c] =i+2\n",
        "    ctoi[\"PAD\"]=0\n",
        "    ctoi[\"SOS\"]=1\n",
        "    ctoi[\"EOS\"] =len(ctoi)\n",
        "    itoc = {}\n",
        "    for c,i in ctoi.items():\n",
        "        itoc[i]=c\n",
        "    return ctoi,itoc"
      ],
      "metadata": {
        "id": "e1tqJkPtXn6A"
      },
      "execution_count": 64,
      "outputs": []
    },
    {
      "cell_type": "code",
      "source": [
        "s_ctoi,s_itoc=vocab(d['s'])\n",
        "t_ctoi,t_itoc=vocab(d['t'])\n",
        "print(\"Source vocab size:\", len(s_ctoi))\n",
        "print(\"Target vocab size:\", len(t_ctoi))"
      ],
      "metadata": {
        "colab": {
          "base_uri": "https://localhost:8080/"
        },
        "id": "w-S76virBhO3",
        "outputId": "bb61ce9c-92ce-44d5-d2f6-8f63b94bc798"
      },
      "execution_count": 65,
      "outputs": [
        {
          "output_type": "stream",
          "name": "stdout",
          "text": [
            "Source vocab size: 29\n",
            "Target vocab size: 114\n"
          ]
        }
      ]
    },
    {
      "cell_type": "code",
      "source": [
        "def encode(seq, ctoi):\n",
        "    enc=[ctoi[\"SOS\"]]\n",
        "    for c in seq:\n",
        "        if c in ctoi:\n",
        "            enc.append(ctoi[c])\n",
        "        else:\n",
        "            enc.append(0)\n",
        "    enc.append(ctoi[\"EOS\"])\n",
        "    return enc\n",
        "e_pairs=[]\n",
        "for s,t in pairs:\n",
        "    enc_s=encode(s, s_ctoi)\n",
        "    enc_t=encode(t, t_ctoi)\n",
        "    e_pairs.append((enc_s, enc_t))\n",
        "max_s =0\n",
        "max_t =0\n",
        "for s,t in e_pairs:\n",
        "    if len(s) > max_s:\n",
        "        max_s=len(s)\n",
        "    if len(t) > max_t:\n",
        "        max_t=len(t)\n",
        "def pad(seq, max_len):\n",
        "    while len(seq) < max_len:\n",
        "        seq.append(0)\n",
        "    return seq\n",
        "X =[]\n",
        "Y =[]\n",
        "for s, t in e_pairs:\n",
        "    X.append(pad(s, max_s))\n",
        "    Y.append(pad(t, max_t))\n",
        "X_train,X_val,Y_train,Y_val=train_test_split(X,Y,test_size=0.1,random_state=42)\n"
      ],
      "metadata": {
        "id": "xZua2cjeGVnn"
      },
      "execution_count": 66,
      "outputs": []
    },
    {
      "cell_type": "code",
      "source": [
        "class Dataseti(Dataset):\n",
        "    def __init__(self, X, Y):\n",
        "        self.X=torch.tensor(X,dtype=torch.long)\n",
        "        self.Y=torch.tensor(Y,dtype=torch.long)\n",
        "    def __len__(self):\n",
        "        return len(self.X)\n",
        "    def __getitem__(self, idx):\n",
        "        return self.X[idx], self.Y[idx]\n",
        "train_ds=Dataseti(X_train,Y_train)\n",
        "val_ds=Dataseti(X_val,Y_val)\n",
        "train_dl=DataLoader(train_ds,batch_size=64, shuffle=True)\n",
        "val_dl =DataLoader(val_ds,batch_size=64)\n"
      ],
      "metadata": {
        "id": "8sjeo1ylHdG_"
      },
      "execution_count": 67,
      "outputs": []
    },
    {
      "cell_type": "code",
      "source": [
        "class EncoderRNN(nn.Module):\n",
        "    def __init__(self, vocab_size, embed_size, hidden_size, num_layers=1, cell_type='LSTM'):\n",
        "        super().__init__()\n",
        "        self.embed=nn.Embedding(vocab_size, embed_size)\n",
        "        if cell_type=='GRU':\n",
        "            self.rnn=nn.GRU(embed_size, hidden_size, num_layers, batch_first=True)\n",
        "        else:\n",
        "            self.rnn = nn.LSTM(embed_size, hidden_size, num_layers, batch_first=True)\n",
        "    def forward(self, x):\n",
        "        x=self.embed(x)\n",
        "        outputs,hid= self.rnn(x)\n",
        "        return outputs,hid\n"
      ],
      "metadata": {
        "id": "BkCEY5JWhQul"
      },
      "execution_count": 68,
      "outputs": []
    },
    {
      "cell_type": "code",
      "source": [
        "class DecoderRNN(nn.Module):\n",
        "    def __init__(self, vocab_size, embed_size, hidden_size, num_layers=1, cell_type='LSTM'):\n",
        "        super().__init__()\n",
        "        self.embed=nn.Embedding(vocab_size, embed_size)\n",
        "        if cell_type=='GRU':\n",
        "            self.rnn=nn.GRU(embed_size, hidden_size, num_layers, batch_first=True)\n",
        "        else:\n",
        "            self.rnn=nn.LSTM(embed_size, hidden_size, num_layers, batch_first=True)\n",
        "        self.fc=nn.Linear(hidden_size, vocab_size)\n",
        "    def forward(self, x, hidden):\n",
        "        x=self.embed(x).unsqueeze(1)\n",
        "        output, hidden=self.rnn(x, hidden)\n",
        "        pred = self.fc(output.squeeze(1))\n",
        "        return pred, hidden"
      ],
      "metadata": {
        "id": "mK9_TDXOqptU"
      },
      "execution_count": 69,
      "outputs": []
    },
    {
      "cell_type": "code",
      "source": [
        "class Seq2Seq(nn.Module):\n",
        "    def __init__(self, encoder, decoder, device):\n",
        "        super().__init__()\n",
        "        self.encoder = encoder\n",
        "        self.decoder = decoder\n",
        "        self.device = device\n",
        "    def forward(self, src, tgt, teacher_forcing_ratio=0.5):\n",
        "        b_size,t_len=tgt.shape\n",
        "        vocab_size=self.decoder.fc.out_features\n",
        "        outputs=torch.zeros(b_size, t_len, vocab_size).to(self.device)\n",
        "        _, hidden= self.encoder(src)\n",
        "        input_ =tgt[:, 0]\n",
        "        for i in range(1,t_len):\n",
        "            output,hidden=self.decoder(input_, hidden)\n",
        "            outputs[:,i]=output\n",
        "            top1=output.argmax(1)\n",
        "            if random.random() < teacher_forcing_ratio:\n",
        "                input_=tgt[:,i]\n",
        "            else:\n",
        "                input_=top1\n",
        "        return outputs\n"
      ],
      "metadata": {
        "id": "EdSFR3Roq3bG"
      },
      "execution_count": 70,
      "outputs": []
    },
    {
      "cell_type": "code",
      "source": [
        "e_size=64\n",
        "hid_size=128\n",
        "encoder=EncoderRNN(len(s_ctoi), e_size, hid_size)\n",
        "decoder=DecoderRNN(len(t_ctoi), e_size, hid_size)\n",
        "model=Seq2Seq(encoder,decoder,device).to(device)\n"
      ],
      "metadata": {
        "id": "QQXOoLtBr1RZ"
      },
      "execution_count": 71,
      "outputs": []
    },
    {
      "cell_type": "code",
      "source": [
        "criterion=nn.CrossEntropyLoss(ignore_index=0)\n",
        "optimizer=torch.optim.Adam(model.parameters(), lr=0.001)\n",
        "epochs=10\n",
        "for epoch in range(epochs):\n",
        "    model.train()\n",
        "    total_loss=0\n",
        "    for batch in train_dl:\n",
        "        src,tgt=batch\n",
        "        src=src.to(device)\n",
        "        tgt=tgt.to(device)\n",
        "        optimizer.zero_grad()\n",
        "        output=model(src, tgt)\n",
        "        output_dim = output.shape[-1]\n",
        "        output_flat=output[:,1:,:].reshape(-1, output_dim)\n",
        "        tgt_flat=tgt[:,1:].reshape(-1)\n",
        "        loss=criterion(output_flat,tgt_flat)\n",
        "        loss.backward()\n",
        "        optimizer.step()\n",
        "        total_loss+=loss.item()\n",
        "    print(\"Epoch {}/{} Loss: {:.4f}\".format(epoch+1,epochs,total_loss/len(train_dl)))\n"
      ],
      "metadata": {
        "colab": {
          "base_uri": "https://localhost:8080/"
        },
        "id": "PBlWnh-VsPzR",
        "outputId": "f9e9a8b5-70d9-4e48-cb61-6216de3ed926"
      },
      "execution_count": 72,
      "outputs": [
        {
          "output_type": "stream",
          "name": "stdout",
          "text": [
            "Epoch 1/10 Loss: 3.0572\n",
            "Epoch 2/10 Loss: 2.7302\n",
            "Epoch 3/10 Loss: 2.3263\n",
            "Epoch 4/10 Loss: 1.7821\n",
            "Epoch 5/10 Loss: 1.4658\n",
            "Epoch 6/10 Loss: 1.3084\n",
            "Epoch 7/10 Loss: 1.1876\n",
            "Epoch 8/10 Loss: 1.1107\n",
            "Epoch 9/10 Loss: 1.0493\n",
            "Epoch 10/10 Loss: 1.0005\n"
          ]
        }
      ]
    },
    {
      "cell_type": "code",
      "source": [
        "def translate_word(model,word):\n",
        "    model.eval()\n",
        "    with torch.no_grad():\n",
        "        seq=encode(word.lower(),s_ctoi)\n",
        "        seq=pad(seq,max_s)\n",
        "        src_tensor=torch.tensor(seq, dtype=torch.long).unsqueeze(0).to(device)\n",
        "        _,hidden=model.encoder(src_tensor)\n",
        "        input_=torch.tensor([t_ctoi[\"SOS\"]]).to(device)\n",
        "        decoded=[]\n",
        "        for i in range(max_t):\n",
        "            output,hidden=model.decoder(input_, hidden)\n",
        "            top1=output.argmax(1)\n",
        "            char=t_itoc[top1.item()]\n",
        "            if char==\"EOS\":\n",
        "                break\n",
        "            decoded.append(char)\n",
        "            input_=top1\n",
        "    return \"\".join(decoded)\n",
        "sample = random.choice(d['s'].values)\n",
        "print(\"Romanized:\",sample)\n",
        "print(\"Predicted Devanagari:\", translate_word(model,sample))\n"
      ],
      "metadata": {
        "id": "DPlQY-xvy5my",
        "outputId": "e38a1f9b-72f0-4491-c3ac-9ed38669c8fb",
        "colab": {
          "base_uri": "https://localhost:8080/"
        }
      },
      "execution_count": 114,
      "outputs": [
        {
          "output_type": "stream",
          "name": "stdout",
          "text": [
            "Romanized: berranv\n",
            "Predicted Devanagari: बेर्वान\n"
          ]
        }
      ]
    }
  ]
}