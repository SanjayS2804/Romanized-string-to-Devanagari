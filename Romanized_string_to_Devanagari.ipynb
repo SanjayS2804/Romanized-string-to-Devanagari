{
  "nbformat": 4,
  "nbformat_minor": 0,
  "metadata": {
    "colab": {
      "provenance": [],
      "name": "Romanized-string-to-Devanagari.ipynb",
      "authorship_tag": "ABX9TyMNh1XyrdA31bjNuw+gvaFO",
      "include_colab_link": true
    },
    "kernelspec": {
      "name": "python3",
      "display_name": "Python 3"
    },
    "language_info": {
      "name": "python"
    }
  },
  "cells": [
    {
      "cell_type": "markdown",
      "metadata": {
        "id": "view-in-github",
        "colab_type": "text"
      },
      "source": [
        "<a href=\"https://colab.research.google.com/github/SanjayS2804/Romanized-string-to-Devanagari/blob/main/Romanized_string_to_Devanagari.ipynb\" target=\"_parent\"><img src=\"https://colab.research.google.com/assets/colab-badge.svg\" alt=\"Open In Colab\"/></a>"
      ]
    },
    {
      "cell_type": "code",
      "execution_count": 3,
      "metadata": {
        "id": "tJGEPc6urS3W",
        "colab": {
          "base_uri": "https://localhost:8080/"
        },
        "outputId": "307d8994-d166-4119-9428-b6fd9fc9f085"
      },
      "outputs": [
        {
          "output_type": "stream",
          "name": "stdout",
          "text": [
            "Device: cpu\n"
          ]
        }
      ],
      "source": [
        "from google.colab import files\n",
        "import zipfile, os, random\n",
        "import pandas as pd\n",
        "import torch\n",
        "import torch.nn as nn\n",
        "from torch.utils.data import Dataset, DataLoader\n",
        "from sklearn.model_selection import train_test_split\n",
        "device=torch.device(\"cuda\" if torch.cuda.is_available() else \"cpu\")\n",
        "print(\"Device:\",device)\n"
      ]
    },
    {
      "cell_type": "code",
      "source": [
        "uploaded =files.upload()\n",
        "zip_name =list(uploaded.keys())[0]\n",
        "workdir =\"/content/aksharantar\"\n",
        "os.makedirs(workdir, exist_ok=True)\n",
        "with zipfile.ZipFile(zip_name, 'r') as zip_ref:\n",
        "    zip_ref.extractall(workdir)\n",
        "print(f\"Uploaded and extracted '{zip_name}'\")\n"
      ],
      "metadata": {
        "colab": {
          "base_uri": "https://localhost:8080/",
          "height": 90
        },
        "id": "QHg8QF6zuqi9",
        "outputId": "012f38fb-9305-4a7e-d909-ea2e92f4d28e"
      },
      "execution_count": 4,
      "outputs": [
        {
          "output_type": "display_data",
          "data": {
            "text/plain": [
              "<IPython.core.display.HTML object>"
            ],
            "text/html": [
              "\n",
              "     <input type=\"file\" id=\"files-45ccecf3-df4e-49b4-a1bd-a3a7a7d03b35\" name=\"files[]\" multiple disabled\n",
              "        style=\"border:none\" />\n",
              "     <output id=\"result-45ccecf3-df4e-49b4-a1bd-a3a7a7d03b35\">\n",
              "      Upload widget is only available when the cell has been executed in the\n",
              "      current browser session. Please rerun this cell to enable.\n",
              "      </output>\n",
              "      <script>// Copyright 2017 Google LLC\n",
              "//\n",
              "// Licensed under the Apache License, Version 2.0 (the \"License\");\n",
              "// you may not use this file except in compliance with the License.\n",
              "// You may obtain a copy of the License at\n",
              "//\n",
              "//      http://www.apache.org/licenses/LICENSE-2.0\n",
              "//\n",
              "// Unless required by applicable law or agreed to in writing, software\n",
              "// distributed under the License is distributed on an \"AS IS\" BASIS,\n",
              "// WITHOUT WARRANTIES OR CONDITIONS OF ANY KIND, either express or implied.\n",
              "// See the License for the specific language governing permissions and\n",
              "// limitations under the License.\n",
              "\n",
              "/**\n",
              " * @fileoverview Helpers for google.colab Python module.\n",
              " */\n",
              "(function(scope) {\n",
              "function span(text, styleAttributes = {}) {\n",
              "  const element = document.createElement('span');\n",
              "  element.textContent = text;\n",
              "  for (const key of Object.keys(styleAttributes)) {\n",
              "    element.style[key] = styleAttributes[key];\n",
              "  }\n",
              "  return element;\n",
              "}\n",
              "\n",
              "// Max number of bytes which will be uploaded at a time.\n",
              "const MAX_PAYLOAD_SIZE = 100 * 1024;\n",
              "\n",
              "function _uploadFiles(inputId, outputId) {\n",
              "  const steps = uploadFilesStep(inputId, outputId);\n",
              "  const outputElement = document.getElementById(outputId);\n",
              "  // Cache steps on the outputElement to make it available for the next call\n",
              "  // to uploadFilesContinue from Python.\n",
              "  outputElement.steps = steps;\n",
              "\n",
              "  return _uploadFilesContinue(outputId);\n",
              "}\n",
              "\n",
              "// This is roughly an async generator (not supported in the browser yet),\n",
              "// where there are multiple asynchronous steps and the Python side is going\n",
              "// to poll for completion of each step.\n",
              "// This uses a Promise to block the python side on completion of each step,\n",
              "// then passes the result of the previous step as the input to the next step.\n",
              "function _uploadFilesContinue(outputId) {\n",
              "  const outputElement = document.getElementById(outputId);\n",
              "  const steps = outputElement.steps;\n",
              "\n",
              "  const next = steps.next(outputElement.lastPromiseValue);\n",
              "  return Promise.resolve(next.value.promise).then((value) => {\n",
              "    // Cache the last promise value to make it available to the next\n",
              "    // step of the generator.\n",
              "    outputElement.lastPromiseValue = value;\n",
              "    return next.value.response;\n",
              "  });\n",
              "}\n",
              "\n",
              "/**\n",
              " * Generator function which is called between each async step of the upload\n",
              " * process.\n",
              " * @param {string} inputId Element ID of the input file picker element.\n",
              " * @param {string} outputId Element ID of the output display.\n",
              " * @return {!Iterable<!Object>} Iterable of next steps.\n",
              " */\n",
              "function* uploadFilesStep(inputId, outputId) {\n",
              "  const inputElement = document.getElementById(inputId);\n",
              "  inputElement.disabled = false;\n",
              "\n",
              "  const outputElement = document.getElementById(outputId);\n",
              "  outputElement.innerHTML = '';\n",
              "\n",
              "  const pickedPromise = new Promise((resolve) => {\n",
              "    inputElement.addEventListener('change', (e) => {\n",
              "      resolve(e.target.files);\n",
              "    });\n",
              "  });\n",
              "\n",
              "  const cancel = document.createElement('button');\n",
              "  inputElement.parentElement.appendChild(cancel);\n",
              "  cancel.textContent = 'Cancel upload';\n",
              "  const cancelPromise = new Promise((resolve) => {\n",
              "    cancel.onclick = () => {\n",
              "      resolve(null);\n",
              "    };\n",
              "  });\n",
              "\n",
              "  // Wait for the user to pick the files.\n",
              "  const files = yield {\n",
              "    promise: Promise.race([pickedPromise, cancelPromise]),\n",
              "    response: {\n",
              "      action: 'starting',\n",
              "    }\n",
              "  };\n",
              "\n",
              "  cancel.remove();\n",
              "\n",
              "  // Disable the input element since further picks are not allowed.\n",
              "  inputElement.disabled = true;\n",
              "\n",
              "  if (!files) {\n",
              "    return {\n",
              "      response: {\n",
              "        action: 'complete',\n",
              "      }\n",
              "    };\n",
              "  }\n",
              "\n",
              "  for (const file of files) {\n",
              "    const li = document.createElement('li');\n",
              "    li.append(span(file.name, {fontWeight: 'bold'}));\n",
              "    li.append(span(\n",
              "        `(${file.type || 'n/a'}) - ${file.size} bytes, ` +\n",
              "        `last modified: ${\n",
              "            file.lastModifiedDate ? file.lastModifiedDate.toLocaleDateString() :\n",
              "                                    'n/a'} - `));\n",
              "    const percent = span('0% done');\n",
              "    li.appendChild(percent);\n",
              "\n",
              "    outputElement.appendChild(li);\n",
              "\n",
              "    const fileDataPromise = new Promise((resolve) => {\n",
              "      const reader = new FileReader();\n",
              "      reader.onload = (e) => {\n",
              "        resolve(e.target.result);\n",
              "      };\n",
              "      reader.readAsArrayBuffer(file);\n",
              "    });\n",
              "    // Wait for the data to be ready.\n",
              "    let fileData = yield {\n",
              "      promise: fileDataPromise,\n",
              "      response: {\n",
              "        action: 'continue',\n",
              "      }\n",
              "    };\n",
              "\n",
              "    // Use a chunked sending to avoid message size limits. See b/62115660.\n",
              "    let position = 0;\n",
              "    do {\n",
              "      const length = Math.min(fileData.byteLength - position, MAX_PAYLOAD_SIZE);\n",
              "      const chunk = new Uint8Array(fileData, position, length);\n",
              "      position += length;\n",
              "\n",
              "      const base64 = btoa(String.fromCharCode.apply(null, chunk));\n",
              "      yield {\n",
              "        response: {\n",
              "          action: 'append',\n",
              "          file: file.name,\n",
              "          data: base64,\n",
              "        },\n",
              "      };\n",
              "\n",
              "      let percentDone = fileData.byteLength === 0 ?\n",
              "          100 :\n",
              "          Math.round((position / fileData.byteLength) * 100);\n",
              "      percent.textContent = `${percentDone}% done`;\n",
              "\n",
              "    } while (position < fileData.byteLength);\n",
              "  }\n",
              "\n",
              "  // All done.\n",
              "  yield {\n",
              "    response: {\n",
              "      action: 'complete',\n",
              "    }\n",
              "  };\n",
              "}\n",
              "\n",
              "scope.google = scope.google || {};\n",
              "scope.google.colab = scope.google.colab || {};\n",
              "scope.google.colab._files = {\n",
              "  _uploadFiles,\n",
              "  _uploadFilesContinue,\n",
              "};\n",
              "})(self);\n",
              "</script> "
            ]
          },
          "metadata": {}
        },
        {
          "output_type": "stream",
          "name": "stdout",
          "text": [
            "Saving aksharantar_sampled.zip to aksharantar_sampled.zip\n",
            "Uploaded and extracted 'aksharantar_sampled.zip'\n"
          ]
        }
      ]
    },
    {
      "cell_type": "code",
      "source": [
        "Tfile=None\n",
        "for root,dirs,Files in os.walk(workdir):\n",
        "    for f in Files:\n",
        "        if f.endswith(\".csv\"):\n",
        "            Tfile=os.path.join(root, f)\n",
        "            break\n",
        "d=pd.read_csv(Tfile).dropna()\n",
        "d.columns = ['s','t']\n",
        "d['s'] = d['s'].astype(str).str.lower()\n",
        "d['t'] = d['t'].astype(str)\n",
        "pairs = list(zip(d['s'], d['t']))\n",
        "pairs = pairs[:]\n"
      ],
      "metadata": {
        "id": "Cuy5SshCUhZq"
      },
      "execution_count": 5,
      "outputs": []
    },
    {
      "cell_type": "code",
      "source": [
        "def vocab(words):\n",
        "    v=sorted(set(\"\".join(words)))\n",
        "    ctoi={}\n",
        "    for i,c in enumerate(v):\n",
        "        ctoi[c] =i+2\n",
        "    ctoi[\"PAD\"]=0\n",
        "    ctoi[\"SOS\"]=1\n",
        "    ctoi[\"EOS\"] =len(ctoi)\n",
        "    itoc = {}\n",
        "    for c,i in ctoi.items():\n",
        "        itoc[i]=c\n",
        "    return ctoi,itoc"
      ],
      "metadata": {
        "id": "e1tqJkPtXn6A"
      },
      "execution_count": 6,
      "outputs": []
    },
    {
      "cell_type": "code",
      "source": [
        "s_ctoi,s_itoc=vocab(d['s'])\n",
        "t_ctoi,t_itoc=vocab(d['t'])\n",
        "print(\"Source vocab size:\", len(s_ctoi))\n",
        "print(\"Target vocab size:\", len(t_ctoi))"
      ],
      "metadata": {
        "colab": {
          "base_uri": "https://localhost:8080/"
        },
        "id": "w-S76virBhO3",
        "outputId": "d40722d4-8e72-4230-87d1-915fd40ce754"
      },
      "execution_count": 7,
      "outputs": [
        {
          "output_type": "stream",
          "name": "stdout",
          "text": [
            "Source vocab size: 29\n",
            "Target vocab size: 66\n"
          ]
        }
      ]
    },
    {
      "cell_type": "code",
      "source": [
        "def encode(seq, ctoi):\n",
        "    enc=[ctoi[\"SOS\"]]\n",
        "    for c in seq:\n",
        "        if c in ctoi:\n",
        "            enc.append(ctoi[c])\n",
        "        else:\n",
        "            enc.append(0)\n",
        "    enc.append(ctoi[\"EOS\"])\n",
        "    return enc\n",
        "e_pairs=[]\n",
        "for s,t in pairs:\n",
        "    enc_s=encode(s, s_ctoi)\n",
        "    enc_t=encode(t, t_ctoi)\n",
        "    e_pairs.append((enc_s, enc_t))\n",
        "max_s =0\n",
        "max_t =0\n",
        "for s,t in e_pairs:\n",
        "    if len(s) > max_s:\n",
        "        max_s=len(s)\n",
        "    if len(t) > max_t:\n",
        "        max_t=len(t)\n",
        "def pad(seq, max_len):\n",
        "    while len(seq) < max_len:\n",
        "        seq.append(0)\n",
        "    return seq\n",
        "X =[]\n",
        "Y =[]\n",
        "for s, t in e_pairs:\n",
        "    X.append(pad(s, max_s))\n",
        "    Y.append(pad(t, max_t))\n",
        "X_train,X_val,Y_train,Y_val=train_test_split(X,Y,test_size=0.1,random_state=42)\n"
      ],
      "metadata": {
        "id": "xZua2cjeGVnn"
      },
      "execution_count": 8,
      "outputs": []
    },
    {
      "cell_type": "code",
      "source": [
        "class Dataseti(Dataset):\n",
        "    def __init__(self, X, Y):\n",
        "        self.X=torch.tensor(X,dtype=torch.long)\n",
        "        self.Y=torch.tensor(Y,dtype=torch.long)\n",
        "    def __len__(self):\n",
        "        return len(self.X)\n",
        "    def __getitem__(self, idx):\n",
        "        return self.X[idx], self.Y[idx]\n",
        "train_ds=Dataseti(X_train,Y_train)\n",
        "val_ds=Dataseti(X_val,Y_val)\n",
        "train_dl=DataLoader(train_ds,batch_size=64, shuffle=True)\n",
        "val_dl =DataLoader(val_ds,batch_size=64)\n"
      ],
      "metadata": {
        "id": "8sjeo1ylHdG_"
      },
      "execution_count": 9,
      "outputs": []
    },
    {
      "cell_type": "code",
      "source": [
        "class EncoderRNN(nn.Module):\n",
        "    def __init__(self, vocab_size, embed_size, hidden_size, num_layers=1, cell_type='LSTM'):\n",
        "        super().__init__()\n",
        "        self.embed=nn.Embedding(vocab_size, embed_size)\n",
        "        if cell_type=='GRU':\n",
        "            self.rnn=nn.GRU(embed_size, hidden_size, num_layers, batch_first=True)\n",
        "        else:\n",
        "            self.rnn = nn.LSTM(embed_size, hidden_size, num_layers, batch_first=True)\n",
        "    def forward(self, x):\n",
        "        x=self.embed(x)\n",
        "        outputs,hid= self.rnn(x)\n",
        "        return outputs,hid\n"
      ],
      "metadata": {
        "id": "BkCEY5JWhQul"
      },
      "execution_count": 10,
      "outputs": []
    }
  ]
}